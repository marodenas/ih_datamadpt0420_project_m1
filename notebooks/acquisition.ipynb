{
 "cells": [
  {
   "cell_type": "markdown",
   "metadata": {},
   "source": [
    "# API "
   ]
  },
  {
   "cell_type": "markdown",
   "metadata": {},
   "source": [
    "api info http://api.dataatwork.org/v1/spec/#!/default/get_jobs"
   ]
  },
  {
   "cell_type": "markdown",
   "metadata": {},
   "source": [
    "### Data Analysis"
   ]
  },
  {
   "cell_type": "markdown",
   "metadata": {},
   "source": [
    "Load basic libraries"
   ]
  },
  {
   "cell_type": "raw",
   "metadata": {},
   "source": [
    "import kaggle\n",
    "import pandas as pd\n",
    "# import data set from Ironhack’s database\n",
    "# !kaggle datasets download -d abcsds/pokemon\n",
    "# !unzip ‘pokemon’\n",
    "df = pd.read_csv(‘Pokemon.csv’)\n",
    "df"
   ]
  },
  {
   "cell_type": "code",
   "execution_count": 14,
   "metadata": {},
   "outputs": [],
   "source": [
    "import pandas as pd\n",
    "import numpy as np\n",
    "import requests\n",
    "from sqlalchemy import create_engine\n",
    "import re\n",
    "import matplotlib.pyplot as plt\n",
    "import seaborn as sns"
   ]
  },
  {
   "cell_type": "code",
   "execution_count": null,
   "metadata": {},
   "outputs": [],
   "source": [
    "# response = requests.get('http://api.dataatwork.org/v1/jobs')\n",
    "# # response = requests.get('http://api.dataatwork.org/v1/spec/skills-api.json')\n",
    "\n",
    "# json_data = response.json()\n",
    "# # json_data\n",
    "# # num_pages = json_data['last_page']\n",
    "\n",
    "# # num_pages\n",
    "# # host = json_data['host']\n",
    "# # base_url = json_data['basePath']\n",
    "# # paths = json_data['paths']"
   ]
  },
  {
   "cell_type": "markdown",
   "metadata": {},
   "source": [
    "# Data from SQL"
   ]
  },
  {
   "cell_type": "code",
   "execution_count": 2,
   "metadata": {},
   "outputs": [
    {
     "data": {
      "text/html": [
       "<div>\n",
       "<style scoped>\n",
       "    .dataframe tbody tr th:only-of-type {\n",
       "        vertical-align: middle;\n",
       "    }\n",
       "\n",
       "    .dataframe tbody tr th {\n",
       "        vertical-align: top;\n",
       "    }\n",
       "\n",
       "    .dataframe thead th {\n",
       "        text-align: right;\n",
       "    }\n",
       "</style>\n",
       "<table border=\"1\" class=\"dataframe\">\n",
       "  <thead>\n",
       "    <tr style=\"text-align: right;\">\n",
       "      <th></th>\n",
       "      <th>uuid</th>\n",
       "      <th>gender</th>\n",
       "      <th>country_code</th>\n",
       "      <th>normalized_job_code</th>\n",
       "    </tr>\n",
       "  </thead>\n",
       "  <tbody>\n",
       "    <tr>\n",
       "      <th>0</th>\n",
       "      <td>f6e7ee00-deac-0133-4de8-0a81e8b09a82</td>\n",
       "      <td>Male</td>\n",
       "      <td>AT</td>\n",
       "      <td>None</td>\n",
       "    </tr>\n",
       "    <tr>\n",
       "      <th>1</th>\n",
       "      <td>54f0f1c0-dda1-0133-a559-0a81e8b09a82</td>\n",
       "      <td>Male</td>\n",
       "      <td>AT</td>\n",
       "      <td>861a9b9151e11362eb3c77ca914172d0</td>\n",
       "    </tr>\n",
       "    <tr>\n",
       "      <th>2</th>\n",
       "      <td>83127080-da3d-0133-c74f-0a81e8b09a82</td>\n",
       "      <td>Male</td>\n",
       "      <td>AT</td>\n",
       "      <td>None</td>\n",
       "    </tr>\n",
       "    <tr>\n",
       "      <th>3</th>\n",
       "      <td>15626d40-db13-0133-ea5c-0a81e8b09a82</td>\n",
       "      <td>Male</td>\n",
       "      <td>AT</td>\n",
       "      <td>049a3f3a2b5f85cb2971ba77ad66e10c</td>\n",
       "    </tr>\n",
       "    <tr>\n",
       "      <th>4</th>\n",
       "      <td>24954a70-db98-0133-4a64-0a81e8b09a82</td>\n",
       "      <td>Female</td>\n",
       "      <td>AT</td>\n",
       "      <td>f4b2fb1aa40f661488e2782b6d57ad2f</td>\n",
       "    </tr>\n",
       "    <tr>\n",
       "      <th>...</th>\n",
       "      <td>...</td>\n",
       "      <td>...</td>\n",
       "      <td>...</td>\n",
       "      <td>...</td>\n",
       "    </tr>\n",
       "    <tr>\n",
       "      <th>9644</th>\n",
       "      <td>7d1ac020-dcb4-0133-817a-0a81e8b09a82</td>\n",
       "      <td>Female</td>\n",
       "      <td>SK</td>\n",
       "      <td>847165cfda6b1dc82ae22b967da8af2f</td>\n",
       "    </tr>\n",
       "    <tr>\n",
       "      <th>9645</th>\n",
       "      <td>39f989f0-db52-0133-8482-0a81e8b09a82</td>\n",
       "      <td>Male</td>\n",
       "      <td>SK</td>\n",
       "      <td>a4d5b8b38f9513825d0d94a981ebe962</td>\n",
       "    </tr>\n",
       "    <tr>\n",
       "      <th>9646</th>\n",
       "      <td>70ce4a90-d965-0133-f5e4-0a81e8b09a82</td>\n",
       "      <td>Male</td>\n",
       "      <td>SK</td>\n",
       "      <td>None</td>\n",
       "    </tr>\n",
       "    <tr>\n",
       "      <th>9647</th>\n",
       "      <td>2896e440-db3c-0133-5b67-0a81e8b09a82</td>\n",
       "      <td>Male</td>\n",
       "      <td>SK</td>\n",
       "      <td>775190277a849cba701b306a7b374c0a</td>\n",
       "    </tr>\n",
       "    <tr>\n",
       "      <th>9648</th>\n",
       "      <td>06217ba0-dd56-0133-edda-0a81e8b09a82</td>\n",
       "      <td>Female</td>\n",
       "      <td>SK</td>\n",
       "      <td>8a7a3f1bce0958ae9f090683e5a925b7</td>\n",
       "    </tr>\n",
       "  </tbody>\n",
       "</table>\n",
       "<p>9649 rows × 4 columns</p>\n",
       "</div>"
      ],
      "text/plain": [
       "                                      uuid  gender country_code  \\\n",
       "0     f6e7ee00-deac-0133-4de8-0a81e8b09a82    Male           AT   \n",
       "1     54f0f1c0-dda1-0133-a559-0a81e8b09a82    Male           AT   \n",
       "2     83127080-da3d-0133-c74f-0a81e8b09a82    Male           AT   \n",
       "3     15626d40-db13-0133-ea5c-0a81e8b09a82    Male           AT   \n",
       "4     24954a70-db98-0133-4a64-0a81e8b09a82  Female           AT   \n",
       "...                                    ...     ...          ...   \n",
       "9644  7d1ac020-dcb4-0133-817a-0a81e8b09a82  Female           SK   \n",
       "9645  39f989f0-db52-0133-8482-0a81e8b09a82    Male           SK   \n",
       "9646  70ce4a90-d965-0133-f5e4-0a81e8b09a82    Male           SK   \n",
       "9647  2896e440-db3c-0133-5b67-0a81e8b09a82    Male           SK   \n",
       "9648  06217ba0-dd56-0133-edda-0a81e8b09a82  Female           SK   \n",
       "\n",
       "                   normalized_job_code  \n",
       "0                                 None  \n",
       "1     861a9b9151e11362eb3c77ca914172d0  \n",
       "2                                 None  \n",
       "3     049a3f3a2b5f85cb2971ba77ad66e10c  \n",
       "4     f4b2fb1aa40f661488e2782b6d57ad2f  \n",
       "...                                ...  \n",
       "9644  847165cfda6b1dc82ae22b967da8af2f  \n",
       "9645  a4d5b8b38f9513825d0d94a981ebe962  \n",
       "9646                              None  \n",
       "9647  775190277a849cba701b306a7b374c0a  \n",
       "9648  8a7a3f1bce0958ae9f090683e5a925b7  \n",
       "\n",
       "[9649 rows x 4 columns]"
      ]
     },
     "metadata": {},
     "output_type": "display_data"
    }
   ],
   "source": [
    "url = '../data/raw/raw_data_project_m1.db'\n",
    "def get_data_from_sql(url):\n",
    "    sqlitedb_path = url\n",
    "    engine = create_engine(f'sqlite:///{sqlitedb_path}')\n",
    "#     df_sql_pi = pd.read_sql_query(\"SELECT uuid,gender FROM personal_info\", engine)\n",
    "#     df_sql_country = pd.read_sql_query(\"SELECT uuid,country_code FROM country_info\",engine)\n",
    "#     df_sql_ci = pd.read_sql_query(\"SELECT uuid,normalized_job_code FROM career_info\",engine)\n",
    "    \n",
    "    df_sql = pd.read_sql_query(\"SELECT personal_info.uuid,personal_info.gender, \\\n",
    "                                country_info.country_code, \\\n",
    "                                career_info.normalized_job_code \\\n",
    "                                FROM personal_info \\\n",
    "                                JOIN country_info on personal_info.uuid = country_info.uuid \\\n",
    "                                JOIN career_info on personal_info.uuid = career_info.uuid\", engine)\n",
    "    \n",
    "#     df_sql_ = pd.merge(df_sql_pi, df_sql_country, on='uuid')\n",
    "#     df_sql = pd.merge(df_sql_, df_sql_ci, on='uuid')\n",
    "    return df_sql\n",
    "\n",
    "df_sql = get_data_from_sql(url)\n",
    "# display(df_sql[df_sql['country_code']=='ES'])\n",
    "# df_sql['uuid'].unique()\n",
    "\n",
    "def normalize_gender(df):\n",
    "    df['gender'] = df['gender'].apply(lambda x: 'Female' if x ==\"Fem\" else x.lower().capitalize())\n",
    "    return df\n",
    "\n",
    "df_c = normalize_gender(df_sql)\n",
    "display(df_c)"
   ]
  },
  {
   "cell_type": "code",
   "execution_count": null,
   "metadata": {},
   "outputs": [],
   "source": [
    "# df_sql_country.\n",
    "# # df_sql_country.isnull().sum()\n",
    "# df_sql.loc['861a9b9151e11362eb3c77ca914172d0',df_sql['normalized_job_code']]\n",
    "\n",
    "# df_sql[(df_sql['normalized_job_code'] == '8a7a3f1bce0958ae9f090683e5a925b7') ]\n",
    "print(df_sql['country_code'].unique())"
   ]
  },
  {
   "cell_type": "code",
   "execution_count": null,
   "metadata": {},
   "outputs": [],
   "source": []
  },
  {
   "cell_type": "code",
   "execution_count": 3,
   "metadata": {},
   "outputs": [],
   "source": [
    "def capitalize_string(x):\n",
    "    x.lower()\n",
    "    return x.capitalize()\n",
    "\n",
    "def normalize_gender(x):\n",
    "    if x == 'Fem':\n",
    "        return 'Female'\n",
    "    else:\n",
    "        return x\n",
    "\n",
    "def normalize_age(x):\n",
    "    x = re.sub(r'\\D', '',x)\n",
    "    if int(x) > 1000:\n",
    "        return 2016-int(x)\n",
    "    else:\n",
    "        return int(x)\n",
    "\n",
    "# def normalize_uuid(x):\n",
    "#     x = x.replace(\"-\",\"\")\n",
    "#     return x\n",
    "\n",
    "df_sql['gender'] = df_sql['gender'].apply(capitalize_string)\n",
    "df_sql['gender'] = df_sql['gender'].apply(normalize_gender)\n",
    "# df_sql['dem_has_children'] = df_sql['dem_has_children'].apply(capitalize_string)\n",
    "# df_sql['age'] = df_sql['age'].apply(normalize_age).astype(int)\n",
    "# print(df_sql['normalized_job_code'].values)"
   ]
  },
  {
   "cell_type": "code",
   "execution_count": 4,
   "metadata": {},
   "outputs": [],
   "source": [
    "df_sql = df_sql[['normalized_job_code','gender','country_code']]\n",
    "df_sql = df_sql.rename(columns={'normalized_job_code': 'uuid'})\n",
    "\n"
   ]
  },
  {
   "cell_type": "markdown",
   "metadata": {},
   "source": [
    "### Data From API"
   ]
  },
  {
   "cell_type": "code",
   "execution_count": 5,
   "metadata": {},
   "outputs": [],
   "source": [
    "# response = requests.get('http://api.dataatwork.org/v1/jobs?offset=0&limit=500')\n",
    "# response = requests.get('http://api.dataatwork.org/v1/spec/skills-api.json')\n",
    "\n",
    "\n",
    "# json_data = response.json()\n",
    "# df_api = pd.DataFrame(json_data)\n",
    "# json_data[-1]['links'][-1]['href']\n",
    "json_data=[]\n",
    "\n",
    "# for x in range(0,45500,500):\n",
    "#     response = requests.get(f'http://api.dataatwork.org/v1/jobs?offset={x}&limit=500')\n",
    "#     json_data.extend(response.json())    \n",
    "\n",
    "# df_api = pd.DataFrame(json_data[0])\n",
    "# df_api\n",
    "\n",
    "jobs = df_sql['uuid'].unique()\n",
    "\n",
    "def get_title_names(x):\n",
    "    if x ==None:\n",
    "        pass\n",
    "    else:\n",
    "        x = str(x)\n",
    "        response = requests.get(f'http://api.dataatwork.org/v1/jobs/{x}')\n",
    "        return response.json()['title']\n",
    "\n",
    "\n",
    "unique_jobs = {x:get_title_names(x) for x in jobs}\n",
    "    "
   ]
  },
  {
   "cell_type": "markdown",
   "metadata": {},
   "source": [
    "# Data from webscraping"
   ]
  },
  {
   "cell_type": "code",
   "execution_count": 6,
   "metadata": {},
   "outputs": [
    {
     "name": "stdout",
     "output_type": "stream",
     "text": [
      "{'BE': 'Belgium', 'EL': 'Greece', 'LT': 'Lithuania', 'PT': 'Portugal', 'BG': 'Bulgaria', 'ES': 'Spain', 'LU': 'Luxembourg', 'RO': 'Romania', 'CZ': 'Czechia', 'FR': 'France', 'HU': 'Hungary', 'SI': 'Slovenia', 'DK': 'Denmark', 'HR': 'Croatia', 'MT': 'Malta', 'SK': 'Slovakia', 'DE': 'Germany', 'IT': 'Italy', 'NL': 'Netherlands', 'FI': 'Finland', 'EE': 'Estonia', 'CY': 'Cyprus', 'AT': 'Austria', 'SE': 'Sweden', 'IE': 'Ireland', 'LV': 'Latvia', 'PL': 'Poland', 'UK': 'UnitedKingdom', 'IS': 'Iceland', 'NO': 'Norway', 'LI': 'Liechtenstein', 'CH': 'Switzerland', 'ME': 'Montenegro', 'MK': 'NorthMacedonia', 'AL': 'Albania', 'RS': 'Serbia', 'TR': 'Turkey', 'BA': 'BosniaandHerzegovina', 'XK2': 'Kosovo1', 'AM': 'Armenia', 'BY': 'Belarus', 'GE': 'Georgia', 'AZ': 'Azerbaijan', 'MD': 'Moldova', 'UA': 'Ukraine', 'DZ': 'Algeria', 'LB': 'Lebanon', 'SY': 'Syria', 'EG': 'Egypt', 'LY': 'Libya', 'TN': 'Tunisia', 'IL': 'Israel', 'MA': 'Morocco', 'JO': 'Jordan', 'PS': 'Palestine3', 'RU': 'Russia', 'AR': 'Argentina', 'CN_X_HK': 'ChinaexceptHongKong', 'MX': 'Mexico', 'ZA': 'SouthAfrica', 'AU': 'Australia', 'HK': 'HongKong', 'NG': 'Nigeria', 'KR': 'SouthKorea', 'BR': 'Brazil', 'IN': 'India', 'NZ': 'NewZealand', 'TW': 'Taiwan', 'CA': 'Canada', 'JP': 'Japan', 'SG': 'Singapore', 'US': 'UnitedStates'}\n"
     ]
    },
    {
     "ename": "TypeError",
     "evalue": "'DataFrame' objects are mutable, thus they cannot be hashed",
     "output_type": "error",
     "traceback": [
      "\u001b[0;31m---------------------------------------------------------------------------\u001b[0m",
      "\u001b[0;31mTypeError\u001b[0m                                 Traceback (most recent call last)",
      "\u001b[0;32m<ipython-input-6-292c5ec92596>\u001b[0m in \u001b[0;36m<module>\u001b[0;34m\u001b[0m\n\u001b[1;32m     27\u001b[0m \u001b[0;34m\u001b[0m\u001b[0m\n\u001b[1;32m     28\u001b[0m \u001b[0;34m\u001b[0m\u001b[0m\n\u001b[0;32m---> 29\u001b[0;31m \u001b[0mcountries\u001b[0m \u001b[0;34m=\u001b[0m \u001b[0mget_country_name\u001b[0m\u001b[0;34m(\u001b[0m\u001b[0mdf_c\u001b[0m\u001b[0;34m)\u001b[0m\u001b[0;34m\u001b[0m\u001b[0;34m\u001b[0m\u001b[0m\n\u001b[0m\u001b[1;32m     30\u001b[0m \u001b[0mdisplay\u001b[0m\u001b[0;34m(\u001b[0m\u001b[0mcountries\u001b[0m\u001b[0;34m)\u001b[0m\u001b[0;34m\u001b[0m\u001b[0;34m\u001b[0m\u001b[0m\n",
      "\u001b[0;32m<ipython-input-6-292c5ec92596>\u001b[0m in \u001b[0;36mget_country_name\u001b[0;34m(x)\u001b[0m\n\u001b[1;32m     15\u001b[0m \u001b[0mcc\u001b[0m \u001b[0;34m=\u001b[0m \u001b[0mget_data_from_web\u001b[0m\u001b[0;34m(\u001b[0m\u001b[0murl\u001b[0m\u001b[0;34m)\u001b[0m\u001b[0;34m\u001b[0m\u001b[0;34m\u001b[0m\u001b[0m\n\u001b[1;32m     16\u001b[0m \u001b[0;32mdef\u001b[0m \u001b[0mget_country_name\u001b[0m\u001b[0;34m(\u001b[0m\u001b[0mx\u001b[0m\u001b[0;34m)\u001b[0m\u001b[0;34m:\u001b[0m\u001b[0;34m\u001b[0m\u001b[0;34m\u001b[0m\u001b[0m\n\u001b[0;32m---> 17\u001b[0;31m     \u001b[0;32mif\u001b[0m \u001b[0mx\u001b[0m \u001b[0;32min\u001b[0m \u001b[0mcc\u001b[0m\u001b[0;34m.\u001b[0m\u001b[0mkeys\u001b[0m\u001b[0;34m(\u001b[0m\u001b[0;34m)\u001b[0m\u001b[0;34m:\u001b[0m\u001b[0;34m\u001b[0m\u001b[0;34m\u001b[0m\u001b[0m\n\u001b[0m\u001b[1;32m     18\u001b[0m         \u001b[0;32mreturn\u001b[0m \u001b[0mcc\u001b[0m\u001b[0;34m[\u001b[0m\u001b[0mx\u001b[0m\u001b[0;34m]\u001b[0m\u001b[0;34m\u001b[0m\u001b[0;34m\u001b[0m\u001b[0m\n\u001b[1;32m     19\u001b[0m     \u001b[0;32melif\u001b[0m \u001b[0mx\u001b[0m\u001b[0;34m==\u001b[0m\u001b[0;34m'GR'\u001b[0m\u001b[0;34m:\u001b[0m\u001b[0;34m\u001b[0m\u001b[0;34m\u001b[0m\u001b[0m\n",
      "\u001b[0;32m~/miniconda3/envs/ironhack_env/lib/python3.7/site-packages/pandas/core/generic.py\u001b[0m in \u001b[0;36m__hash__\u001b[0;34m(self)\u001b[0m\n\u001b[1;32m   1797\u001b[0m     \u001b[0;32mdef\u001b[0m \u001b[0m__hash__\u001b[0m\u001b[0;34m(\u001b[0m\u001b[0mself\u001b[0m\u001b[0;34m)\u001b[0m\u001b[0;34m:\u001b[0m\u001b[0;34m\u001b[0m\u001b[0;34m\u001b[0m\u001b[0m\n\u001b[1;32m   1798\u001b[0m         raise TypeError(\n\u001b[0;32m-> 1799\u001b[0;31m             \u001b[0;34mf\"{repr(type(self).__name__)} objects are mutable, \"\u001b[0m\u001b[0;34m\u001b[0m\u001b[0;34m\u001b[0m\u001b[0m\n\u001b[0m\u001b[1;32m   1800\u001b[0m             \u001b[0;34mf\"thus they cannot be hashed\"\u001b[0m\u001b[0;34m\u001b[0m\u001b[0;34m\u001b[0m\u001b[0m\n\u001b[1;32m   1801\u001b[0m         )\n",
      "\u001b[0;31mTypeError\u001b[0m: 'DataFrame' objects are mutable, thus they cannot be hashed"
     ]
    }
   ],
   "source": [
    "import requests\n",
    "from bs4 import BeautifulSoup\n",
    "url = 'https://ec.europa.eu/eurostat/statistics-explained/index.php/Glossary:Country_codes'\n",
    "def get_data_from_web(url):\n",
    "    html = requests.get(url).content\n",
    "    soup = BeautifulSoup(html, 'lxml')\n",
    "    table = soup.find_all('table')\n",
    "    td = soup.find_all('td')\n",
    "    rows= [row.text for row in td if row!=\"\"]\n",
    "    rows_parsed = [re.sub(r'\\W', '', x) for x in rows if x!=\"\\n\"]\n",
    "    countries = {rows_parsed[x+1]:rows_parsed[x] for x in range(0,len(rows_parsed)-1,2) if rows_parsed[x]!=\"\"}\n",
    "    print(countries)\n",
    "    return countries\n",
    "\n",
    "cc = get_data_from_web(url)\n",
    "def get_country_name(x):\n",
    "    if x in cc.keys():\n",
    "        return cc[x]\n",
    "    elif x=='GR':\n",
    "        return 'Greece'\n",
    "    elif x=='GB':\n",
    "        return 'Great Britain'\n",
    "    else:\n",
    "        return x\n",
    "\n",
    "# print(get_country_name('AT'))\n",
    "\n",
    "\n",
    "countries = get_country_name(df_c)\n",
    "display(countries)"
   ]
  },
  {
   "cell_type": "code",
   "execution_count": 7,
   "metadata": {},
   "outputs": [
    {
     "data": {
      "text/plain": [
       "array(['Austria', 'Belgium', 'Bulgaria', 'Cyprus', 'Czechia', 'Germany',\n",
       "       'Denmark', 'Estonia', 'Spain', 'Finland', 'France',\n",
       "       'Great Britain', 'Greece', 'Croatia', 'Hungary', 'Ireland',\n",
       "       'Italy', 'Lithuania', 'Luxembourg', 'Latvia', 'Malta',\n",
       "       'Netherlands', 'Poland', 'Portugal', 'Romania', 'Sweden',\n",
       "       'Slovenia', 'Slovakia'], dtype=object)"
      ]
     },
     "execution_count": 7,
     "metadata": {},
     "output_type": "execute_result"
    }
   ],
   "source": [
    "table = df_sql\n",
    "table['country_code'] = table['country_code'].apply(get_country_name)\n",
    "table['country_code'].unique()"
   ]
  },
  {
   "cell_type": "raw",
   "metadata": {},
   "source": [
    "jobs = df_sql['uuid'].values.tolist()\n",
    "jobs = [x for x in jobs if x!=None]\n",
    "len(jobs)\n",
    "jobs = [get_title_name(x) for x in jobs] \n",
    "print(jobs)"
   ]
  },
  {
   "cell_type": "markdown",
   "metadata": {},
   "source": [
    "# Join Table"
   ]
  },
  {
   "cell_type": "code",
   "execution_count": 8,
   "metadata": {},
   "outputs": [
    {
     "data": {
      "text/html": [
       "<div>\n",
       "<style scoped>\n",
       "    .dataframe tbody tr th:only-of-type {\n",
       "        vertical-align: middle;\n",
       "    }\n",
       "\n",
       "    .dataframe tbody tr th {\n",
       "        vertical-align: top;\n",
       "    }\n",
       "\n",
       "    .dataframe thead th {\n",
       "        text-align: right;\n",
       "    }\n",
       "</style>\n",
       "<table border=\"1\" class=\"dataframe\">\n",
       "  <thead>\n",
       "    <tr style=\"text-align: right;\">\n",
       "      <th></th>\n",
       "      <th>Job Title</th>\n",
       "      <th>Gender</th>\n",
       "      <th>Country</th>\n",
       "    </tr>\n",
       "  </thead>\n",
       "  <tbody>\n",
       "    <tr>\n",
       "      <th>0</th>\n",
       "      <td>None</td>\n",
       "      <td>Male</td>\n",
       "      <td>Austria</td>\n",
       "    </tr>\n",
       "    <tr>\n",
       "      <th>1</th>\n",
       "      <td>Automatic Data Processing Planner</td>\n",
       "      <td>Male</td>\n",
       "      <td>Austria</td>\n",
       "    </tr>\n",
       "    <tr>\n",
       "      <th>2</th>\n",
       "      <td>None</td>\n",
       "      <td>Male</td>\n",
       "      <td>Austria</td>\n",
       "    </tr>\n",
       "    <tr>\n",
       "      <th>3</th>\n",
       "      <td>Data Coordinator</td>\n",
       "      <td>Male</td>\n",
       "      <td>Austria</td>\n",
       "    </tr>\n",
       "    <tr>\n",
       "      <th>4</th>\n",
       "      <td>Database Developer</td>\n",
       "      <td>Female</td>\n",
       "      <td>Austria</td>\n",
       "    </tr>\n",
       "    <tr>\n",
       "      <th>...</th>\n",
       "      <td>...</td>\n",
       "      <td>...</td>\n",
       "      <td>...</td>\n",
       "    </tr>\n",
       "    <tr>\n",
       "      <th>9644</th>\n",
       "      <td>Data Warehouse Developer</td>\n",
       "      <td>Female</td>\n",
       "      <td>Slovakia</td>\n",
       "    </tr>\n",
       "    <tr>\n",
       "      <th>9645</th>\n",
       "      <td>Database Manager</td>\n",
       "      <td>Male</td>\n",
       "      <td>Slovakia</td>\n",
       "    </tr>\n",
       "    <tr>\n",
       "      <th>9646</th>\n",
       "      <td>None</td>\n",
       "      <td>Male</td>\n",
       "      <td>Slovakia</td>\n",
       "    </tr>\n",
       "    <tr>\n",
       "      <th>9647</th>\n",
       "      <td>Data Officer</td>\n",
       "      <td>Male</td>\n",
       "      <td>Slovakia</td>\n",
       "    </tr>\n",
       "    <tr>\n",
       "      <th>9648</th>\n",
       "      <td>Data Scientist</td>\n",
       "      <td>Female</td>\n",
       "      <td>Slovakia</td>\n",
       "    </tr>\n",
       "  </tbody>\n",
       "</table>\n",
       "<p>9649 rows × 3 columns</p>\n",
       "</div>"
      ],
      "text/plain": [
       "                              Job Title  Gender   Country\n",
       "0                                  None    Male   Austria\n",
       "1     Automatic Data Processing Planner    Male   Austria\n",
       "2                                  None    Male   Austria\n",
       "3                      Data Coordinator    Male   Austria\n",
       "4                    Database Developer  Female   Austria\n",
       "...                                 ...     ...       ...\n",
       "9644           Data Warehouse Developer  Female  Slovakia\n",
       "9645                   Database Manager    Male  Slovakia\n",
       "9646                               None    Male  Slovakia\n",
       "9647                       Data Officer    Male  Slovakia\n",
       "9648                     Data Scientist  Female  Slovakia\n",
       "\n",
       "[9649 rows x 3 columns]"
      ]
     },
     "execution_count": 8,
     "metadata": {},
     "output_type": "execute_result"
    }
   ],
   "source": [
    "# display(df_sql)\n",
    "# display(df_api)\n",
    "table = df_sql\n",
    "table['country_code'] = table['country_code'].apply(get_country_name)\n",
    "table['uuid'] = table['uuid'].apply(lambda x: unique_jobs[x] if x!=None else None)\n",
    "table =table.rename(columns={'uuid': 'Job Title','country_code':'Country','gender':'Gender'})\n",
    "table\n"
   ]
  },
  {
   "cell_type": "code",
   "execution_count": 13,
   "metadata": {},
   "outputs": [
    {
     "data": {
      "text/html": [
       "<div>\n",
       "<style scoped>\n",
       "    .dataframe tbody tr th:only-of-type {\n",
       "        vertical-align: middle;\n",
       "    }\n",
       "\n",
       "    .dataframe tbody tr th {\n",
       "        vertical-align: top;\n",
       "    }\n",
       "\n",
       "    .dataframe thead th {\n",
       "        text-align: right;\n",
       "    }\n",
       "</style>\n",
       "<table border=\"1\" class=\"dataframe\">\n",
       "  <thead>\n",
       "    <tr style=\"text-align: right;\">\n",
       "      <th></th>\n",
       "      <th>Country</th>\n",
       "      <th>Job Title</th>\n",
       "      <th>Gender</th>\n",
       "      <th>Quantity</th>\n",
       "    </tr>\n",
       "  </thead>\n",
       "  <tbody>\n",
       "    <tr>\n",
       "      <th>0</th>\n",
       "      <td>Austria</td>\n",
       "      <td>Automatic Data Processing Customer Liaison (AD...</td>\n",
       "      <td>Male</td>\n",
       "      <td>2</td>\n",
       "    </tr>\n",
       "    <tr>\n",
       "      <th>1</th>\n",
       "      <td>Austria</td>\n",
       "      <td>Automatic Data Processing Planner</td>\n",
       "      <td>Female</td>\n",
       "      <td>1</td>\n",
       "    </tr>\n",
       "    <tr>\n",
       "      <th>2</th>\n",
       "      <td>Austria</td>\n",
       "      <td>Automatic Data Processing Planner</td>\n",
       "      <td>Male</td>\n",
       "      <td>1</td>\n",
       "    </tr>\n",
       "    <tr>\n",
       "      <th>3</th>\n",
       "      <td>Austria</td>\n",
       "      <td>Automatic Data Processing Systems Security Spe...</td>\n",
       "      <td>Male</td>\n",
       "      <td>2</td>\n",
       "    </tr>\n",
       "    <tr>\n",
       "      <th>4</th>\n",
       "      <td>Austria</td>\n",
       "      <td>Clinical Data Specialist</td>\n",
       "      <td>Male</td>\n",
       "      <td>1</td>\n",
       "    </tr>\n",
       "  </tbody>\n",
       "</table>\n",
       "</div>"
      ],
      "text/plain": [
       "   Country                                          Job Title  Gender  \\\n",
       "0  Austria  Automatic Data Processing Customer Liaison (AD...    Male   \n",
       "1  Austria                  Automatic Data Processing Planner  Female   \n",
       "2  Austria                  Automatic Data Processing Planner    Male   \n",
       "3  Austria  Automatic Data Processing Systems Security Spe...    Male   \n",
       "4  Austria                           Clinical Data Specialist    Male   \n",
       "\n",
       "   Quantity  \n",
       "0         2  \n",
       "1         1  \n",
       "2         1  \n",
       "3         2  \n",
       "4         1  "
      ]
     },
     "metadata": {},
     "output_type": "display_data"
    },
    {
     "data": {
      "text/html": [
       "<div>\n",
       "<style scoped>\n",
       "    .dataframe tbody tr th:only-of-type {\n",
       "        vertical-align: middle;\n",
       "    }\n",
       "\n",
       "    .dataframe tbody tr th {\n",
       "        vertical-align: top;\n",
       "    }\n",
       "\n",
       "    .dataframe thead th {\n",
       "        text-align: right;\n",
       "    }\n",
       "</style>\n",
       "<table border=\"1\" class=\"dataframe\">\n",
       "  <thead>\n",
       "    <tr style=\"text-align: right;\">\n",
       "      <th></th>\n",
       "      <th>Country</th>\n",
       "      <th>Job Title</th>\n",
       "      <th>Gender</th>\n",
       "      <th>Quantity</th>\n",
       "    </tr>\n",
       "  </thead>\n",
       "  <tbody>\n",
       "    <tr>\n",
       "      <th>0</th>\n",
       "      <td>Austria</td>\n",
       "      <td>Automatic Data Processing Customer Liaison (AD...</td>\n",
       "      <td>Male</td>\n",
       "      <td>2</td>\n",
       "    </tr>\n",
       "    <tr>\n",
       "      <th>1</th>\n",
       "      <td>Austria</td>\n",
       "      <td>Automatic Data Processing Planner</td>\n",
       "      <td>Female</td>\n",
       "      <td>1</td>\n",
       "    </tr>\n",
       "    <tr>\n",
       "      <th>2</th>\n",
       "      <td>Austria</td>\n",
       "      <td>Automatic Data Processing Planner</td>\n",
       "      <td>Male</td>\n",
       "      <td>1</td>\n",
       "    </tr>\n",
       "    <tr>\n",
       "      <th>3</th>\n",
       "      <td>Austria</td>\n",
       "      <td>Automatic Data Processing Systems Security Spe...</td>\n",
       "      <td>Male</td>\n",
       "      <td>2</td>\n",
       "    </tr>\n",
       "    <tr>\n",
       "      <th>4</th>\n",
       "      <td>Austria</td>\n",
       "      <td>Clinical Data Specialist</td>\n",
       "      <td>Male</td>\n",
       "      <td>1</td>\n",
       "    </tr>\n",
       "  </tbody>\n",
       "</table>\n",
       "</div>"
      ],
      "text/plain": [
       "   Country                                          Job Title  Gender  \\\n",
       "0  Austria  Automatic Data Processing Customer Liaison (AD...    Male   \n",
       "1  Austria                  Automatic Data Processing Planner  Female   \n",
       "2  Austria                  Automatic Data Processing Planner    Male   \n",
       "3  Austria  Automatic Data Processing Systems Security Spe...    Male   \n",
       "4  Austria                           Clinical Data Specialist    Male   \n",
       "\n",
       "   Quantity  \n",
       "0         2  \n",
       "1         1  \n",
       "2         1  \n",
       "3         2  \n",
       "4         1  "
      ]
     },
     "execution_count": 13,
     "metadata": {},
     "output_type": "execute_result"
    }
   ],
   "source": [
    "table_test = table\n",
    "testin = table_test.groupby(['Country','Job Title','Gender']).size().reset_index()\n",
    "ttt = testin.rename(columns={0:'Quantity'})\n",
    "display(ttt.head())\n",
    "\n",
    "test = table_test.groupby(['Country','Job Title','Gender']).agg(Quantity=('Job Title', 'count')).reset_index()\n",
    "test.head()"
   ]
  },
  {
   "cell_type": "code",
   "execution_count": 10,
   "metadata": {
    "jupyter": {
     "source_hidden": true
    }
   },
   "outputs": [
    {
     "ename": "NameError",
     "evalue": "name 't_sp' is not defined",
     "output_type": "error",
     "traceback": [
      "\u001b[0;31m---------------------------------------------------------------------------\u001b[0m",
      "\u001b[0;31mNameError\u001b[0m                                 Traceback (most recent call last)",
      "\u001b[0;32m<ipython-input-10-83cc42b1fe8f>\u001b[0m in \u001b[0;36m<module>\u001b[0;34m\u001b[0m\n\u001b[1;32m      7\u001b[0m \u001b[0;31m#(table_test['Job Title']=='Data Scientist')&\u001b[0m\u001b[0;34m\u001b[0m\u001b[0;34m\u001b[0m\u001b[0;34m\u001b[0m\u001b[0m\n\u001b[1;32m      8\u001b[0m \u001b[0;34m\u001b[0m\u001b[0m\n\u001b[0;32m----> 9\u001b[0;31m \u001b[0mfinal\u001b[0m  \u001b[0;34m=\u001b[0m \u001b[0mt_sp\u001b[0m\u001b[0;34m.\u001b[0m\u001b[0mgroupby\u001b[0m\u001b[0;34m(\u001b[0m\u001b[0;34m[\u001b[0m\u001b[0;34m'Country'\u001b[0m\u001b[0;34m,\u001b[0m\u001b[0;34m'Job Title'\u001b[0m\u001b[0;34m,\u001b[0m\u001b[0;34m'Gender'\u001b[0m\u001b[0;34m]\u001b[0m\u001b[0;34m)\u001b[0m\u001b[0;34m.\u001b[0m\u001b[0magg\u001b[0m\u001b[0;34m(\u001b[0m\u001b[0mQuantity\u001b[0m\u001b[0;34m=\u001b[0m\u001b[0;34m(\u001b[0m\u001b[0;34m'Gender'\u001b[0m\u001b[0;34m,\u001b[0m\u001b[0;34m'count'\u001b[0m\u001b[0;34m)\u001b[0m\u001b[0;34m)\u001b[0m\u001b[0;34m\u001b[0m\u001b[0;34m\u001b[0m\u001b[0m\n\u001b[0m\u001b[1;32m     10\u001b[0m \u001b[0mtest\u001b[0m\u001b[0;34m\u001b[0m\u001b[0;34m\u001b[0m\u001b[0m\n\u001b[1;32m     11\u001b[0m \u001b[0;31m# ,Percentage=('Quantity',lambda x: x/x.sum())\u001b[0m\u001b[0;34m\u001b[0m\u001b[0;34m\u001b[0m\u001b[0;34m\u001b[0m\u001b[0m\n",
      "\u001b[0;31mNameError\u001b[0m: name 't_sp' is not defined"
     ]
    }
   ],
   "source": [
    "table_test = table\n",
    "# get_percentage = lambda x: x/sum(x)\n",
    "test = table_test.groupby(['Country','Job Title','Gender']).agg(Quantity=('Job Title', 'count'))\n",
    "# t_sp = table_test[(table_test['Job Title']=='Data Scientist')&(table_test['Country']=='Spain')]\n",
    "\n",
    "# t_sp = table_test[table_test['Job Title']=='Data Scientist']\n",
    "#(table_test['Job Title']=='Data Scientist')&\n",
    "\n",
    "final  = t_sp.groupby(['Country','Job Title','Gender']).agg(Quantity=('Gender','count'))\n",
    "test\n",
    "# ,Percentage=('Quantity',lambda x: x/x.sum())\n",
    "# t_sp.groupby(['Country','Job Title','Gender'])\n"
   ]
  },
  {
   "cell_type": "code",
   "execution_count": 20,
   "metadata": {},
   "outputs": [
    {
     "data": {
      "image/png": "[encoded data removed]",
      "text/plain": [
       "<Figure size 432x288 with 1 Axes>"
      ]
     },
     "metadata": {
      "needs_background": "light"
     },
     "output_type": "display_data"
    }
   ],
   "source": [
    "\n",
    "# ax = test.set_index('Gender').plot.pie(y='Quantity', x='Gender', figsize=(8, 8), title='Titulo')\n",
    "# # fig = ax.get_figure()\n",
    "# # fig.savefig('./data/reporting/gender_distribution.jpeg')\n",
    "# ax\n",
    "\n",
    "ax = test.plot.bar(x='Country')"
   ]
  },
  {
   "cell_type": "code",
   "execution_count": null,
   "metadata": {},
   "outputs": [],
   "source": [
    "final['Percentage']=round(final['Quantity']/sum(final['Quantity'])*100,2)\n",
    "# final['Percentage']\n",
    "final"
   ]
  },
  {
   "cell_type": "code",
   "execution_count": null,
   "metadata": {},
   "outputs": [],
   "source": [
    "display(final.sort_values('Job Title'))\n"
   ]
  },
  {
   "cell_type": "code",
   "execution_count": null,
   "metadata": {},
   "outputs": [],
   "source": [
    "final['Percentage'] = final['Quantity'].apply(lambda x: x/sum(x))\n",
    "final.head()"
   ]
  },
  {
   "cell_type": "code",
   "execution_count": null,
   "metadata": {},
   "outputs": [],
   "source": [
    "# get_percentage = lambda x: count(x)/sum(x)\n",
    "table_test[(table_test['Country']==\"Belgium\")&(table_test['Job Title']==\"Data Scientist\")]\n"
   ]
  },
  {
   "cell_type": "code",
   "execution_count": null,
   "metadata": {},
   "outputs": [],
   "source": [
    "# test = table_test.groupby(['Country','Job Title','Gender']).agg(Quantity=('Job Title', 'count'))\n",
    "\n",
    "tt = table_test[table_test['Country']==\"Spain\"]\n",
    "test = tt.groupby(['Country','Job Title','Gender']).agg(Quantity=('Job Title', 'count'))\n",
    "test['Percentage']=round(test['Quantity']/sum(test['Quantity'])*100,2)\n",
    "test"
   ]
  },
  {
   "cell_type": "code",
   "execution_count": null,
   "metadata": {},
   "outputs": [],
   "source": [
    "def analyze(df,country=None):\n",
    "    print(country)\n",
    "    if country:\n",
    "        print(\"with country\")\n",
    "        filtered_df = df[df['Country']==country]\n",
    "        test = filtered_df.groupby(['Country','Job Title','Gender']).agg(Quantity=('Job Title', 'count'))\n",
    "        test['Percentage']=round(test['Quantity']/sum(test['Quantity'])*100,2)\n",
    "        return test\n",
    "    else:\n",
    "        print(\"no country\")\n",
    "        test = df.groupby(['Country','Job Title','Gender']).agg(Quantity=('Job Title', 'count'))\n",
    "        test['Percentage']=round(test['Quantity']/sum(test['Quantity'])*100,2)\n",
    "        return test\n",
    "    \n",
    "t = analyze(table_test,'Austria')  \n",
    "t"
   ]
  },
  {
   "cell_type": "code",
   "execution_count": null,
   "metadata": {},
   "outputs": [],
   "source": [
    " = df_country[['Gender', 'Quantity']].set_index('Gender').groupby('Gender').sum().reset_index()\n",
    "    ax = g.set_index('Gender').plot.pie(y='Quantity', x='Gender', figsize=(8, 8), title=tit1)\n",
    "    fig = ax.get_figure()\n",
    "    fig.savefig('./data/reporting/gender_distribution.jpeg')\n"
   ]
  },
  {
   "cell_type": "markdown",
   "metadata": {},
   "source": [
    "# Bonus 1"
   ]
  },
  {
   "cell_type": "code",
   "execution_count": null,
   "metadata": {},
   "outputs": [],
   "source": [
    "url = '../data/raw/raw_data_project_m1.db'\n",
    "# def get_data_from_sql(url):\n",
    "#     sqlitedb_path = url\n",
    "#     engine = create_engine(f'sqlite:///{sqlitedb_path}')\n",
    "#     df_sql = pd.read_sql_query(\"SELECT  * FROM poll_info\", engine)\n",
    "#     dfsql.columns = ['uuid','awareness','votes','effect','for','against']\n",
    "#     dfsql['count_for'] = dfsql['for'].apply(lambda x: len(x.split(\"|\")))\n",
    "#     dfsql['count_a'] = dfsql['against'].apply(lambda x: len(x.split(\"|\")))\n",
    "#     return df_sql\n",
    "\n",
    "def get_poll_info(url):\n",
    "#     cfg = configparser.RawConfigParser()\n",
    "#     cfg.read('config.ini')\n",
    "    sqlitedb_path = url\n",
    "    engine = create_engine(f'sqlite:///{sqlitedb_path}')\n",
    "    data = pd.read_sql_query(\"SELECT poll_info.question_bbi_2016wave4_basicincome_vote as 'Vote', \\\n",
    "                                poll_info.question_bbi_2016wave4_basicincome_argumentsfor as 'For', \\\n",
    "                                poll_info.question_bbi_2016wave4_basicincome_argumentsagainst as 'Against', \\\n",
    "                                country_info.country_code as 'Country' \\\n",
    "                                FROM poll_info\\\n",
    "                                JOIN country_info on poll_info.uuid = country_info.uuid\", engine)\n",
    "    data['n_args_for'] = data['For'].apply(lambda x: len(x.split(\"|\")))\n",
    "    data['n_args_against'] = data['Against'].apply(lambda x: len(x.split(\"|\")))\n",
    "    return data\n",
    "\n",
    "dfsql = get_poll_info(url)\n",
    "\n",
    "dfsql"
   ]
  },
  {
   "cell_type": "code",
   "execution_count": null,
   "metadata": {},
   "outputs": [],
   "source": [
    "# df_agg = dfsql.groupby('votes').agg(yes=('count_for', 'mean'),no=('count_a', 'mean')).reset_index()\n",
    "\n",
    "test = dfsql.groupby('count_for').size()\n",
    "\n",
    "# tt = pd.DataFrame(test).T\n",
    "# tt.iloc[1,1]\n",
    "test\n"
   ]
  },
  {
   "cell_type": "code",
   "execution_count": null,
   "metadata": {},
   "outputs": [],
   "source": [
    "#data agrupation\n",
    "df_sql = dfsql\n",
    "filteryes = (df_sql['Vote']=='I would vote for it')|(df_sql['Vote']=='I would probably vote for it')\n",
    "filterno = (df_sql['Vote']=='I would vote against it')|(df_sql['Vote']=='I would probably vote against it')\n",
    "df_sql.loc[filteryes, 'Vote'] = 'In Favor'\n",
    "df_sql.loc[filterno, 'Vote'] = 'Against'\n",
    "\n",
    "#data manipulation\n",
    "df = df_agg[df_agg['Vote']!='I would not vote']\n",
    "df_agg = df_sql.groupby(['Country','Vote']).agg(yes=('n_args_for', 'mean'),no=('n_args_against', 'mean')).reset_index()\n",
    "df = df_agg[df_agg['Vote']!='I would not vote']\n",
    "df = df.rename(columns={'yes':'Number of Pro Arguments','no':'Number of Cons Arguments'})\n",
    "# df_agg.drop()\n",
    "df\n",
    "# df_agg = df_agg.drop('I would not vote')\n",
    "# df_agg.columns = ['Number of Pro Arguments','Number of Cons Arguments']\n",
    "# df_agg.reset_index()\n"
   ]
  },
  {
   "cell_type": "code",
   "execution_count": null,
   "metadata": {},
   "outputs": [],
   "source": [
    "#data without agrupation\n",
    "new_df = pd.DataFrame(df_sql.groupby('votes').size()).reset_index()\n",
    "new_df['Quantity'] = new_df[0] \n",
    "new_df.drop(0)\n",
    "new_df['Percentage'] = (new_df['Quantity']/new_df['Quantity'].sum())*100\n",
    "new_df"
   ]
  },
  {
   "cell_type": "code",
   "execution_count": null,
   "metadata": {},
   "outputs": [],
   "source": [
    "# df_sql.groupby('votes').describe().T\n",
    "new_df[(new_df['votes']=='I would vote for it') | (new_df['votes']=='I would probably vote against it')]"
   ]
  },
  {
   "cell_type": "markdown",
   "metadata": {},
   "source": [
    "# Bonus 2"
   ]
  },
  {
   "cell_type": "code",
   "execution_count": null,
   "metadata": {},
   "outputs": [],
   "source": [
    "url = '../data/raw/raw_data_project_m1.db'\n",
    "\n",
    "\n",
    "def get_skills(url):\n",
    "    sqlitedb_path = url\n",
    "    engine = create_engine(f'sqlite:///{sqlitedb_path}')\n",
    "    df_sql = pd.read_sql_query(\"SELECT career_info.dem_education_level as 'Education Level', \\\n",
    "                                career_info.normalized_job_code as 'Job Code', \\\n",
    "                                country_info.country_code as 'Country'\\\n",
    "                                FROM career_info \\\n",
    "                                JOIN country_info on career_info.uuid = country_info.uuid\", engine)\n",
    "    df_sql['Country'] = df_sql['Country'].apply(get_country_name)\n",
    "    return df_sql\n",
    "\n",
    "df_sk = get_skills(url)\n",
    "df_sk"
   ]
  },
  {
   "cell_type": "code",
   "execution_count": null,
   "metadata": {},
   "outputs": [],
   "source": [
    "#drop null education\n",
    "df_sk = df_sk.dropna(subset=['Education Level'])\n",
    "\n",
    "#most repeated job\n",
    "df_sk = df_sk.groupby(['Country','Job Code','Education Level']).size()\n",
    "df_new = pd.DataFrame(df_sk)\n",
    "\n",
    "df_new.sort_values(by=[0])\n",
    "idx = df_new.groupby(['Education Level','Country'])[0].transform(max) == df_new[0]\n",
    "df_new = df_new[idx].reset_index()\n",
    "# df_new.sort_values(by=[0])\n",
    "df_new[df_new['Country']=='Spain']"
   ]
  },
  {
   "cell_type": "code",
   "execution_count": null,
   "metadata": {},
   "outputs": [],
   "source": [
    "def get_skills_names(x):\n",
    "    x = str(x)\n",
    "    response = requests.get(f'http://api.dataatwork.org/v1/jobs/{x}/related_skills')\n",
    "    if response.status_code != 404:\n",
    "        skill_raw = response.json()['skills']\n",
    "        results = [x['skill_name'] for x in skill_raw[0:10]]\n",
    "        return results\n",
    "    else:\n",
    "        skill_raw = ['No related skills']\n",
    "        return skill_raw\n",
    "\n",
    "df_new['Skills'] = df_new['Job Code'].apply(get_skills_names)\n",
    "df_new\n",
    "\n",
    "df1 = pd.DataFrame(df_new['Skills'].values.tolist(), columns=['Skill-'+str(x) for x in range(1,11)])\n",
    "# final = pd.concat([df_new, df1] axis=1)\n",
    "final = pd.concat([df_new['Education Level'].reset_index(drop=True), df1.reset_index(drop=True)], axis=1)\n",
    "# df_new = pd.DataFrame(df_new['Skills'].tolist(), index= df_new.index)\n",
    "# a  = get_skills_names('1a281bf4bd1fe9b2a6e464e508bea167')"
   ]
  },
  {
   "cell_type": "code",
   "execution_count": null,
   "metadata": {},
   "outputs": [],
   "source": [
    "final"
   ]
  },
  {
   "cell_type": "code",
   "execution_count": null,
   "metadata": {},
   "outputs": [],
   "source": [
    "\n",
    "df1 = pd.DataFrame(df_new['Skills'].values.tolist(), columns=['Skill-'+str(x) for x in range(1,11)])\n",
    "# final = pd.concat([df_new, df1] axis=1)\n",
    "final = pd.concat([df_new['Education Level'].reset_index(drop=True), df1.reset_index(drop=True)], axis=1)\n"
   ]
  },
  {
   "cell_type": "code",
   "execution_count": null,
   "metadata": {},
   "outputs": [],
   "source": [
    "receiver_address = 'ma.rodenas@hotmail.com,marodenas6@gmail.com'\n",
    "receiver_address = receiver_address.split(',')"
   ]
  },
  {
   "cell_type": "code",
   "execution_count": null,
   "metadata": {},
   "outputs": [],
   "source": [
    "receiver_address"
   ]
  },
  {
   "cell_type": "code",
   "execution_count": null,
   "metadata": {},
   "outputs": [],
   "source": []
  }
 ],
 "metadata": {
  "kernelspec": {
   "display_name": "Python [conda env:ironhack_env]",
   "language": "python",
   "name": "conda-env-ironhack_env-py"
  },
  "language_info": {
   "codemirror_mode": {
    "name": "ipython",
    "version": 3
   },
   "file_extension": ".py",
   "mimetype": "text/x-python",
   "name": "python",
   "nbconvert_exporter": "python",
   "pygments_lexer": "ipython3",
   "version": "3.7.7"
  }
 },
 "nbformat": 4,
 "nbformat_minor": 4
}
